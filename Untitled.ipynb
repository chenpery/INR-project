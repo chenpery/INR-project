{
 "cells": [
  {
   "cell_type": "code",
   "execution_count": null,
   "id": "16bfef8a-89ec-4fc0-9476-5cbf278276db",
   "metadata": {},
   "outputs": [],
   "source": [
    "def cw_loss(logits, labels, kappa=0):\n",
    "    one_hot = torch.zeros_like(logits).scatter_(1, labels.view(-1,1), 1)\n",
    "    real = (one_hot * logits).sum(dim=1)\n",
    "    other = (1 - one_hot) * logits - one_hot * 10000  # Subtract a large number to ignore the true class\n",
    "    max_other, _ = other.max(dim=1)\n",
    "    loss = torch.clamp(max_other - real + kappa, min=0)\n",
    "    return loss.mean()\n",
    "\n",
    "# Define Margin Loss\n",
    "def margin_loss(logits, labels, kappa=0):\n",
    "    one_hot = torch.zeros_like(logits).scatter_(1, labels.view(-1,1), 1)\n",
    "    real = (one_hot * logits).sum(dim=1)\n",
    "    other = (1 - one_hot) * logits\n",
    "    max_other, _ = other.max(dim=1)\n",
    "    loss = torch.clamp(max_other - real + kappa, min=0)\n",
    "    return loss.mean()"
   ]
  }
 ],
 "metadata": {
  "kernelspec": {
   "display_name": "Python 3 (ipykernel)",
   "language": "python",
   "name": "python3"
  },
  "language_info": {
   "codemirror_mode": {
    "name": "ipython",
    "version": 3
   },
   "file_extension": ".py",
   "mimetype": "text/x-python",
   "name": "python",
   "nbconvert_exporter": "python",
   "pygments_lexer": "ipython3",
   "version": "3.8.12"
  }
 },
 "nbformat": 4,
 "nbformat_minor": 5
}
